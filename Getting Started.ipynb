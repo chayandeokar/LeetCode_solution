{
 "cells": [
  {
   "cell_type": "code",
   "execution_count": null,
   "id": "e976fef3",
   "metadata": {},
   "outputs": [],
   "source": [
    "# Even Number or Odd number"
   ]
  },
  {
   "cell_type": "code",
   "execution_count": 4,
   "id": "4fb6aef6",
   "metadata": {},
   "outputs": [
    {
     "name": "stdout",
     "output_type": "stream",
     "text": [
      "Enter your Number : 4\n",
      "even number\n"
     ]
    }
   ],
   "source": [
    "n = int(input(\"Enter your Number : \"))\n",
    "\n",
    "if n % 2 == 0:\n",
    "    print(\"even number\")\n",
    "else:\n",
    "    print(\"odd number\")"
   ]
  },
  {
   "cell_type": "code",
   "execution_count": 5,
   "id": "3e4c6bff",
   "metadata": {},
   "outputs": [],
   "source": [
    "# Sum of nautral number"
   ]
  },
  {
   "cell_type": "code",
   "execution_count": 6,
   "id": "08f059dd",
   "metadata": {},
   "outputs": [
    {
     "name": "stdout",
     "output_type": "stream",
     "text": [
      "15\n"
     ]
    }
   ],
   "source": [
    "n = 5\n",
    "sum = 0\n",
    "\n",
    "for i in range(n+1):\n",
    "    sum += i\n",
    "print(sum)"
   ]
  },
  {
   "cell_type": "code",
   "execution_count": 9,
   "id": "8e92e742",
   "metadata": {},
   "outputs": [
    {
     "name": "stdout",
     "output_type": "stream",
     "text": [
      "Enter your number : 6\n",
      "21\n"
     ]
    }
   ],
   "source": [
    "number = int(input(\"Enter your number : \"))\n",
    "sum = 0\n",
    "\n",
    "for i in range(number + 1):\n",
    "    sum += i\n",
    "print(sum)"
   ]
  },
  {
   "cell_type": "code",
   "execution_count": 12,
   "id": "4e6fc451",
   "metadata": {},
   "outputs": [],
   "source": [
    "# Sum of numbers in a given range"
   ]
  },
  {
   "cell_type": "code",
   "execution_count": 13,
   "id": "9a6f2d62",
   "metadata": {},
   "outputs": [
    {
     "name": "stdout",
     "output_type": "stream",
     "text": [
      "18\n"
     ]
    }
   ],
   "source": [
    "num1 = 3\n",
    "num2 = 6\n",
    "sum = 0\n",
    "\n",
    "for i in range(num1 , num2+1):\n",
    "    sum+=i\n",
    "print(sum)"
   ]
  },
  {
   "cell_type": "code",
   "execution_count": 14,
   "id": "87e7db42",
   "metadata": {},
   "outputs": [],
   "source": [
    "# Greatest of two number"
   ]
  },
  {
   "cell_type": "code",
   "execution_count": 15,
   "id": "df51c294",
   "metadata": {},
   "outputs": [
    {
     "name": "stdout",
     "output_type": "stream",
     "text": [
      "60\n"
     ]
    }
   ],
   "source": [
    "num1 = 50\n",
    "num2 = 60\n",
    "if num1 > num2:\n",
    "    print(num1)\n",
    "else:\n",
    "    print(num2)"
   ]
  },
  {
   "cell_type": "code",
   "execution_count": 16,
   "id": "69a2e8f3",
   "metadata": {},
   "outputs": [
    {
     "name": "stdout",
     "output_type": "stream",
     "text": [
      "60\n"
     ]
    }
   ],
   "source": [
    "num1 , num2 = 40 , 60\n",
    "print(max(num1,num2))"
   ]
  },
  {
   "cell_type": "code",
   "execution_count": 17,
   "id": "70b8633a",
   "metadata": {},
   "outputs": [
    {
     "name": "stdout",
     "output_type": "stream",
     "text": [
      "30\n"
     ]
    }
   ],
   "source": [
    "num1, num2, num3 = 10 , 30 , 20\n",
    "max = 0\n",
    "if num1 >= num2 and num1 >= num3:\n",
    "  print(num1)\n",
    "elif num2 >= num1 and num2 >= num3:\n",
    "  print(num2)\n",
    "else:\n",
    "  print(num3)"
   ]
  },
  {
   "cell_type": "code",
   "execution_count": 19,
   "id": "36684728",
   "metadata": {},
   "outputs": [
    {
     "name": "stdout",
     "output_type": "stream",
     "text": [
      "Leap Year\n"
     ]
    }
   ],
   "source": [
    "year = 2000\n",
    "if (year%4 == 0) or (year%4==0 and year%100!=0):\n",
    "  print(\"Leap Year\")\n",
    "else:\n",
    "  print(\"Not a Leap Year\")\n"
   ]
  },
  {
   "cell_type": "code",
   "execution_count": 24,
   "id": "ee0a84d5",
   "metadata": {},
   "outputs": [
    {
     "name": "stdout",
     "output_type": "stream",
     "text": [
      "The number is perfect number\n"
     ]
    }
   ],
   "source": [
    "n = 28\n",
    "sum = 0\n",
    "\n",
    "for i in range(1 ,n):\n",
    "    if n % i == 0:\n",
    "        sum = sum + i\n",
    "\n",
    "if sum == n :\n",
    "    print(\"The number is perfect number\")\n",
    "else:\n",
    "    print(\"the number is not perfect\")"
   ]
  },
  {
   "cell_type": "code",
   "execution_count": null,
   "id": "e1731ca9",
   "metadata": {},
   "outputs": [],
   "source": []
  }
 ],
 "metadata": {
  "kernelspec": {
   "display_name": "Python 3 (ipykernel)",
   "language": "python",
   "name": "python3"
  },
  "language_info": {
   "codemirror_mode": {
    "name": "ipython",
    "version": 3
   },
   "file_extension": ".py",
   "mimetype": "text/x-python",
   "name": "python",
   "nbconvert_exporter": "python",
   "pygments_lexer": "ipython3",
   "version": "3.10.2"
  }
 },
 "nbformat": 4,
 "nbformat_minor": 5
}
