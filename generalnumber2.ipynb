{
 "cells": [
  {
   "cell_type": "code",
   "execution_count": 1,
   "id": "374dd261",
   "metadata": {},
   "outputs": [
    {
     "name": "stdout",
     "output_type": "stream",
     "text": [
      "Enter Number: 12345\n",
      "15\n"
     ]
    }
   ],
   "source": [
    "num = input(\"Enter Number: \")\n",
    "sum = 0\n",
    "\n",
    "for i in num:\n",
    "    sum = sum + int(i)\n",
    "\n",
    "print(sum)\n"
   ]
  },
  {
   "cell_type": "code",
   "execution_count": 5,
   "id": "0ba893a4",
   "metadata": {},
   "outputs": [
    {
     "name": "stdout",
     "output_type": "stream",
     "text": [
      "4321\n"
     ]
    }
   ],
   "source": [
    "num = 1234\n",
    "print(str(num)[::-1])"
   ]
  },
  {
   "cell_type": "code",
   "execution_count": 11,
   "id": "0d031800",
   "metadata": {},
   "outputs": [
    {
     "name": "stdout",
     "output_type": "stream",
     "text": [
      "The divisors of 100 are: \n",
      "1 2 4 5 10 20 25 50 100 "
     ]
    }
   ],
   "source": [
    "# method to print the divisors\n",
    "def printDivisors(n) :\n",
    "    i = 1\n",
    "    while i <= n :\n",
    "        if (n % i==0) :\n",
    "            print (i,end=\" \")\n",
    "        i = i + 1\n",
    "         \n",
    "# Driver method\n",
    "print (\"The divisors of 100 are: \")\n",
    "printDivisors(100)"
   ]
  },
  {
   "cell_type": "code",
   "execution_count": null,
   "id": "61d673a5",
   "metadata": {},
   "outputs": [],
   "source": []
  },
  {
   "cell_type": "code",
   "execution_count": null,
   "id": "44133531",
   "metadata": {},
   "outputs": [],
   "source": [
    "from math import sqrt\n",
    "\n",
    "\n",
    "def isPerfectSquare(x):\n",
    "    if x >= 0:\n",
    "        sr = int(sqrt(x))\n",
    "        return (sr * sr) == x\n",
    "    return False\n",
    "\n",
    "\n",
    "n = 84\n",
    "if isPerfectSquare(n):\n",
    "    print(\"True\")\n",
    "else:\n",
    "    print(\"False\")"
   ]
  },
  {
   "cell_type": "code",
   "execution_count": null,
   "id": "3071bdfb",
   "metadata": {},
   "outputs": [],
   "source": [
    "from math import sqrt\n",
    "\n",
    "def isPerfectsqaure(x):\n",
    "    if x >= 0:\n",
    "        sr = int(sqrt(x))\n",
    "        return (sr * sr) == x\n",
    "    return False"
   ]
  }
 ],
 "metadata": {
  "kernelspec": {
   "display_name": "Python 3 (ipykernel)",
   "language": "python",
   "name": "python3"
  },
  "language_info": {
   "codemirror_mode": {
    "name": "ipython",
    "version": 3
   },
   "file_extension": ".py",
   "mimetype": "text/x-python",
   "name": "python",
   "nbconvert_exporter": "python",
   "pygments_lexer": "ipython3",
   "version": "3.10.2"
  }
 },
 "nbformat": 4,
 "nbformat_minor": 5
}
